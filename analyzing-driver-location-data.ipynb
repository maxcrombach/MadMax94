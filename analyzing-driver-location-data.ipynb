{
 "cells": [
  {
   "cell_type": "markdown",
   "id": "13602abe",
   "metadata": {
    "papermill": {
     "duration": 0.00431,
     "end_time": "2023-03-27T17:50:16.451651",
     "exception": false,
     "start_time": "2023-03-27T17:50:16.447341",
     "status": "completed"
    },
    "tags": []
   },
   "source": [
    "# Analzying Driver Location Data\n",
    "\n",
    "The objective of this program is to better help the company's managers understand where the company's Sales Representatives (each with their own respective company vehicle) are driving. Each car is fit with a GPS Tracker that provides a central database with the Latitude & Longitude coordinates every minute.\n",
    "\n",
    "Since the current visualization tools are inadequate (to say the least ;), this tool aims to improve the general understanding of where the company is represented and how it may improve hereon.\n",
    "\n",
    "~Last update: 12/10/2022"
   ]
  },
  {
   "cell_type": "markdown",
   "id": "d201fdc3",
   "metadata": {
    "papermill": {
     "duration": 0.003001,
     "end_time": "2023-03-27T17:50:16.458345",
     "exception": false,
     "start_time": "2023-03-27T17:50:16.455344",
     "status": "completed"
    },
    "tags": []
   },
   "source": [
    "### Install general dependencies & import all files in the directory "
   ]
  },
  {
   "cell_type": "code",
   "execution_count": 1,
   "id": "50da8f04",
   "metadata": {
    "_cell_guid": "b1076dfc-b9ad-4769-8c92-a6c4dae69d19",
    "_uuid": "8f2839f25d086af736a60e9eeb907d3b93b6e0e5",
    "execution": {
     "iopub.execute_input": "2023-03-27T17:50:16.469125Z",
     "iopub.status.busy": "2023-03-27T17:50:16.468149Z",
     "iopub.status.idle": "2023-03-27T17:50:16.488847Z",
     "shell.execute_reply": "2023-03-27T17:50:16.487538Z"
    },
    "papermill": {
     "duration": 0.029581,
     "end_time": "2023-03-27T17:50:16.492080",
     "exception": false,
     "start_time": "2023-03-27T17:50:16.462499",
     "status": "completed"
    },
    "tags": []
   },
   "outputs": [
    {
     "name": "stdout",
     "output_type": "stream",
     "text": [
      "/kaggle/input/sale-reps/TIMOTHY Report.csv\n",
      "/kaggle/input/sale-reps/KAMALUDEEN Report.csv\n",
      "/kaggle/input/sale-reps/MUSA Report.csv\n",
      "/kaggle/input/sale-reps/Adeosun Report.csv\n",
      "/kaggle/input/sale-reps/CHRISTIAN Report.csv\n",
      "/kaggle/input/sale-reps/DANIEL Report.csv\n",
      "/kaggle/input/sale-reps/JEJELOLA Report.csv\n",
      "/kaggle/input/sale-reps/PETER Report.csv\n",
      "/kaggle/input/sale-reps/MUDASSIR Report.csv\n",
      "/kaggle/input/sale-reps/AKINKUMI Report.csv\n",
      "/kaggle/input/sale-reps/HILLARY Report.csv\n"
     ]
    }
   ],
   "source": [
    "import numpy as np\n",
    "import pandas as pd\n",
    "\n",
    "files = []\n",
    "driver = []\n",
    "import os\n",
    "for dirname, _, filenames in os.walk('/kaggle/input'):\n",
    "    for filename in filenames:\n",
    "        file = os.path.join(dirname, filename)\n",
    "        files.append(file)\n",
    "        print(os.path.join(dirname, filename))\n",
    "        \n"
   ]
  },
  {
   "cell_type": "markdown",
   "id": "991515ec",
   "metadata": {
    "papermill": {
     "duration": 0.003804,
     "end_time": "2023-03-27T17:50:16.499509",
     "exception": false,
     "start_time": "2023-03-27T17:50:16.495705",
     "status": "completed"
    },
    "tags": []
   },
   "source": [
    "### Create a script that cleans and removes duplicate columns\n",
    "\n",
    "- Drop unneccesary columns\n",
    "- Rename Columns with the right labels\n",
    "- Remove duplicate & wrong columns"
   ]
  },
  {
   "cell_type": "code",
   "execution_count": 2,
   "id": "da3beab6",
   "metadata": {
    "execution": {
     "iopub.execute_input": "2023-03-27T17:50:16.508388Z",
     "iopub.status.busy": "2023-03-27T17:50:16.507945Z",
     "iopub.status.idle": "2023-03-27T17:50:16.516510Z",
     "shell.execute_reply": "2023-03-27T17:50:16.514868Z"
    },
    "papermill": {
     "duration": 0.016578,
     "end_time": "2023-03-27T17:50:16.519592",
     "exception": false,
     "start_time": "2023-03-27T17:50:16.503014",
     "status": "completed"
    },
    "tags": []
   },
   "outputs": [],
   "source": [
    "drivers = []\n",
    "\n",
    "def clean_df(p):\n",
    "    driver = p.iloc[0,0].replace(\"Device: \", \"\")\n",
    "    p.drop(0, axis = 0, inplace = True)\n",
    "    p.drop('Time', axis = 1, inplace = True)\n",
    "    p.rename(columns = {'Unnamed: 1': 'Time'}, inplace = True)\n",
    "    null_values = p[(p['lat']== 0) | (p['lng'] == 0)].index      # Checks whether 'lat' or 'lng' = 0.0\n",
    "    p.drop_duplicates(inplace = True)\n",
    "    p.drop(null_values, axis = 0, inplace = True)\n",
    "    p['driver'] = driver.strip()\n",
    "    drivers.append(driver)\n",
    "    return p"
   ]
  },
  {
   "cell_type": "markdown",
   "id": "d4821bed",
   "metadata": {
    "papermill": {
     "duration": 0.003128,
     "end_time": "2023-03-27T17:50:16.526300",
     "exception": false,
     "start_time": "2023-03-27T17:50:16.523172",
     "status": "completed"
    },
    "tags": []
   },
   "source": [
    "### Import the csv files and parse the data using the above create cleaning function"
   ]
  },
  {
   "cell_type": "code",
   "execution_count": 3,
   "id": "01ad7676",
   "metadata": {
    "execution": {
     "iopub.execute_input": "2023-03-27T17:50:16.535555Z",
     "iopub.status.busy": "2023-03-27T17:50:16.534887Z",
     "iopub.status.idle": "2023-03-27T17:50:36.147623Z",
     "shell.execute_reply": "2023-03-27T17:50:36.146320Z"
    },
    "papermill": {
     "duration": 19.620675,
     "end_time": "2023-03-27T17:50:36.150409",
     "exception": false,
     "start_time": "2023-03-27T17:50:16.529734",
     "status": "completed"
    },
    "tags": []
   },
   "outputs": [
    {
     "name": "stdout",
     "output_type": "stream",
     "text": [
      "CHRISTIAN OGBODE         17727\n",
      "MUDASSIR DANLADI         16069\n",
      "MUSA ISHAYA              15788\n",
      "HILLARY ARIWA            15154\n",
      "TIMOTHY ADELANI          13224\n",
      "AKINKUMI IDOWU           13208\n",
      "PETER YOHANA             12817\n",
      "ADEOSUN OLUWASIJI        11951\n",
      "KAMALUDEEN ABDULWAHAB     6696\n",
      "JEJELOLA OMOTAYO          1566\n",
      "DANIEL OJONYE             1139\n",
      "Name: driver, dtype: int64\n",
      "\n",
      " (125339, 3)\n",
      "<class 'pandas.core.frame.DataFrame'>\n",
      "DatetimeIndex: 125339 entries, 2023-01-29 00:00:05 to 2023-02-28 17:20:30\n",
      "Data columns (total 3 columns):\n",
      " #   Column  Non-Null Count   Dtype   \n",
      "---  ------  --------------   -----   \n",
      " 0   lat     125339 non-null  float32 \n",
      " 1   lng     125339 non-null  float32 \n",
      " 2   driver  125339 non-null  category\n",
      "dtypes: category(1), float32(2)\n",
      "memory usage: 2.0 MB\n",
      "\n",
      " None\n",
      "CPU times: user 17.8 s, sys: 558 ms, total: 18.4 s\n",
      "Wall time: 19.6 s\n"
     ]
    },
    {
     "data": {
      "text/html": [
       "<div>\n",
       "<style scoped>\n",
       "    .dataframe tbody tr th:only-of-type {\n",
       "        vertical-align: middle;\n",
       "    }\n",
       "\n",
       "    .dataframe tbody tr th {\n",
       "        vertical-align: top;\n",
       "    }\n",
       "\n",
       "    .dataframe thead th {\n",
       "        text-align: right;\n",
       "    }\n",
       "</style>\n",
       "<table border=\"1\" class=\"dataframe\">\n",
       "  <thead>\n",
       "    <tr style=\"text-align: right;\">\n",
       "      <th></th>\n",
       "      <th>lat</th>\n",
       "      <th>lng</th>\n",
       "      <th>driver</th>\n",
       "    </tr>\n",
       "    <tr>\n",
       "      <th>Time</th>\n",
       "      <th></th>\n",
       "      <th></th>\n",
       "      <th></th>\n",
       "    </tr>\n",
       "  </thead>\n",
       "  <tbody>\n",
       "    <tr>\n",
       "      <th>2023-01-29 00:00:05</th>\n",
       "      <td>7.49346</td>\n",
       "      <td>3.96049</td>\n",
       "      <td>TIMOTHY ADELANI</td>\n",
       "    </tr>\n",
       "    <tr>\n",
       "      <th>2023-01-29 01:30:14</th>\n",
       "      <td>7.49344</td>\n",
       "      <td>3.96046</td>\n",
       "      <td>TIMOTHY ADELANI</td>\n",
       "    </tr>\n",
       "    <tr>\n",
       "      <th>2023-01-29 01:33:31</th>\n",
       "      <td>7.49347</td>\n",
       "      <td>3.96052</td>\n",
       "      <td>TIMOTHY ADELANI</td>\n",
       "    </tr>\n",
       "    <tr>\n",
       "      <th>2023-01-29 01:47:10</th>\n",
       "      <td>7.49348</td>\n",
       "      <td>3.96047</td>\n",
       "      <td>TIMOTHY ADELANI</td>\n",
       "    </tr>\n",
       "    <tr>\n",
       "      <th>2023-01-29 09:33:45</th>\n",
       "      <td>7.49358</td>\n",
       "      <td>3.96051</td>\n",
       "      <td>TIMOTHY ADELANI</td>\n",
       "    </tr>\n",
       "  </tbody>\n",
       "</table>\n",
       "</div>"
      ],
      "text/plain": [
       "                         lat      lng           driver\n",
       "Time                                                  \n",
       "2023-01-29 00:00:05  7.49346  3.96049  TIMOTHY ADELANI\n",
       "2023-01-29 01:30:14  7.49344  3.96046  TIMOTHY ADELANI\n",
       "2023-01-29 01:33:31  7.49347  3.96052  TIMOTHY ADELANI\n",
       "2023-01-29 01:47:10  7.49348  3.96047  TIMOTHY ADELANI\n",
       "2023-01-29 09:33:45  7.49358  3.96051  TIMOTHY ADELANI"
      ]
     },
     "execution_count": 3,
     "metadata": {},
     "output_type": "execute_result"
    }
   ],
   "source": [
    "%%time\n",
    "# Read in and clean the files\n",
    "\n",
    "all_reps = []\n",
    "\n",
    "i = 0\n",
    "\n",
    "for file in files:\n",
    "    df = pd.read_csv(file, usecols = ['Time','Unnamed: 1','lat', 'lng'], \n",
    "                     dtype = {'Time': 'object', 'lat': 'float32', 'lng': 'float32'})\n",
    "    df = clean_df(df)\n",
    "    all_reps.append(df)\n",
    "    \n",
    "result = pd.concat(all_reps)\n",
    "result['driver'] =result['driver'].astype('category') \n",
    "result.drop_duplicates(subset = ['lat', 'lng', 'driver'],keep = 'first', inplace = True)\n",
    "\n",
    "result['Time'] = pd.to_datetime(result['Time'],format = '%-m/%-d/%Y %-I:%M:%S %p', infer_datetime_format=True)\n",
    "result.set_index('Time', inplace = True)\n",
    "\n",
    "print(result['driver'].value_counts())\n",
    "\n",
    "print('\\n', result.shape)\n",
    "print('\\n', result.info())\n",
    "result.head()"
   ]
  },
  {
   "cell_type": "markdown",
   "id": "1d0a9ee6",
   "metadata": {
    "papermill": {
     "duration": 0.003909,
     "end_time": "2023-03-27T17:50:36.158279",
     "exception": false,
     "start_time": "2023-03-27T17:50:36.154370",
     "status": "completed"
    },
    "tags": []
   },
   "source": [
    "### Use Plotly Express & Mapbox to visualize the driver locations on an interactive map\n",
    "\n",
    "This setup requires an account & API Token to use Mapbox\n",
    "\n",
    "In this case, the drivers are still manually configured. In the ideal situation however, this will be derived from the csv file directly.... Currently still something to work on."
   ]
  },
  {
   "cell_type": "code",
   "execution_count": 4,
   "id": "09493b4e",
   "metadata": {
    "execution": {
     "iopub.execute_input": "2023-03-27T17:50:36.167751Z",
     "iopub.status.busy": "2023-03-27T17:50:36.167333Z",
     "iopub.status.idle": "2023-03-27T17:50:36.175090Z",
     "shell.execute_reply": "2023-03-27T17:50:36.173847Z"
    },
    "papermill": {
     "duration": 0.01526,
     "end_time": "2023-03-27T17:50:36.177567",
     "exception": false,
     "start_time": "2023-03-27T17:50:36.162307",
     "status": "completed"
    },
    "tags": []
   },
   "outputs": [
    {
     "data": {
      "text/plain": [
       "['lat', 'lng', 'driver']"
      ]
     },
     "execution_count": 4,
     "metadata": {},
     "output_type": "execute_result"
    }
   ],
   "source": [
    "[i for i in result.columns]"
   ]
  },
  {
   "cell_type": "code",
   "execution_count": 5,
   "id": "06c8c7b0",
   "metadata": {
    "execution": {
     "iopub.execute_input": "2023-03-27T17:50:36.187566Z",
     "iopub.status.busy": "2023-03-27T17:50:36.187100Z",
     "iopub.status.idle": "2023-03-27T17:50:39.084142Z",
     "shell.execute_reply": "2023-03-27T17:50:39.082894Z"
    },
    "papermill": {
     "duration": 2.905514,
     "end_time": "2023-03-27T17:50:39.087258",
     "exception": false,
     "start_time": "2023-03-27T17:50:36.181744",
     "status": "completed"
    },
    "tags": []
   },
   "outputs": [],
   "source": [
    "from kaggle_secrets import UserSecretsClient\n",
    "user_secrets = UserSecretsClient()\n",
    "import plotly.express as px\n",
    "\n",
    "token = user_secrets.get_secret(\"mapbox_token\")\n",
    "\n",
    "px.set_mapbox_access_token(token)\n",
    "\n",
    "fig = px.scatter_mapbox(result, lat= 'lat', lon= 'lng', \n",
    "                        zoom = 4,title = 'Sales Reps Trip Summary February 2023', \n",
    "                        color = 'driver')\n"
   ]
  },
  {
   "cell_type": "code",
   "execution_count": 6,
   "id": "18052d62",
   "metadata": {
    "execution": {
     "iopub.execute_input": "2023-03-27T17:50:39.097329Z",
     "iopub.status.busy": "2023-03-27T17:50:39.096656Z",
     "iopub.status.idle": "2023-03-27T17:50:39.139920Z",
     "shell.execute_reply": "2023-03-27T17:50:39.138705Z"
    },
    "papermill": {
     "duration": 0.05146,
     "end_time": "2023-03-27T17:50:39.142829",
     "exception": false,
     "start_time": "2023-03-27T17:50:39.091369",
     "status": "completed"
    },
    "tags": []
   },
   "outputs": [],
   "source": [
    "# Export the generated report to an html file\n",
    "fig.write_html(\"./February Trip Report.html\", include_plotlyjs=\"cdn\")\n"
   ]
  },
  {
   "cell_type": "code",
   "execution_count": null,
   "id": "da529aa2",
   "metadata": {
    "papermill": {
     "duration": 0.003531,
     "end_time": "2023-03-27T17:50:39.150276",
     "exception": false,
     "start_time": "2023-03-27T17:50:39.146745",
     "status": "completed"
    },
    "tags": []
   },
   "outputs": [],
   "source": []
  }
 ],
 "metadata": {
  "kernelspec": {
   "display_name": "Python 3",
   "language": "python",
   "name": "python3"
  },
  "language_info": {
   "codemirror_mode": {
    "name": "ipython",
    "version": 3
   },
   "file_extension": ".py",
   "mimetype": "text/x-python",
   "name": "python",
   "nbconvert_exporter": "python",
   "pygments_lexer": "ipython3",
   "version": "3.7.12"
  },
  "papermill": {
   "default_parameters": {},
   "duration": 34.065071,
   "end_time": "2023-03-27T17:50:40.077974",
   "environment_variables": {},
   "exception": null,
   "input_path": "__notebook__.ipynb",
   "output_path": "__notebook__.ipynb",
   "parameters": {},
   "start_time": "2023-03-27T17:50:06.012903",
   "version": "2.3.4"
  }
 },
 "nbformat": 4,
 "nbformat_minor": 5
}
